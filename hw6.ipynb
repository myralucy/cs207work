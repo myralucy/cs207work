{
 "cells": [
  {
   "cell_type": "markdown",
   "metadata": {
    "collapsed": true
   },
   "source": [
    "## Q1.\n",
    "\n",
    "Add a __setitem__ to the python linked list implementation from the lecture (this past wednesday)."
   ]
  },
  {
   "cell_type": "code",
   "execution_count": 112,
   "metadata": {
    "collapsed": true
   },
   "outputs": [],
   "source": [
    "#your code here\n",
    "#copy the previous class LL and add setitem to it.\n",
    "from doctest import run_docstring_examples as dtest\n",
    "import numbers\n",
    "import reprlib\n",
    "class LL:\n",
    "    \"\"\"\n",
    "    >>> A = LL()  \n",
    "    >>> A[0]\n",
    "    Traceback (most recent call last):\n",
    "        ...\n",
    "    IndexError: trying to index an empty LL\n",
    "    >>> A.insert_front(1)\n",
    "    >>> A[0]\n",
    "    1\n",
    "    >>> A.insert_back(2)\n",
    "    >>> A[1]\n",
    "    2\n",
    "    >>> A\n",
    "    LL([1,...])\n",
    "    >>> myll = LL.from_components([1,2])\n",
    "    >>> myll[1]\n",
    "    1\n",
    "    >>> len(myll)\n",
    "    2\n",
    "    >>> myll[2]\n",
    "    Traceback (most recent call last):\n",
    "        ...\n",
    "    IndexError: LL index out of range\n",
    "    >>> myll[0:1]\n",
    "    Traceback (most recent call last):\n",
    "        ...\n",
    "    TypeError: LL indices must be integers\n",
    "    \"\"\"\n",
    "    @classmethod\n",
    "    def from_components(cls, components):\n",
    "        inst = cls(components[0])\n",
    "        for c in components[1:]:\n",
    "            inst.insert_front(c)\n",
    "        return inst\n",
    "        \n",
    "    def __init__(self, head=None):\n",
    "        if head is None:\n",
    "            self._headNode = None\n",
    "        else:\n",
    "            self._headNode = [head, None]\n",
    "            \n",
    "    def insert_front(self, element):   #O(1)\n",
    "        new_node = [element, None]\n",
    "        new_node[1] = self._headNode\n",
    "        self._headNode = new_node\n",
    "        \n",
    "    def insert_back(self, element):     #O(n)\n",
    "        new_node = [element, None]\n",
    "        curr_ptr = self._headNode\n",
    "        while curr_ptr[1] is not None:\n",
    "            curr_ptr = curr_ptr[1]\n",
    "        curr_ptr[1]= new_node\n",
    "        \n",
    "    def __repr__(self):\n",
    "        class_name = type(self).__name__\n",
    "        if len(self)==0:\n",
    "            components=\"\"\n",
    "        else:\n",
    "            components = reprlib.repr(self[0])\n",
    "        return '{}([{},...])'.format(class_name,components)\n",
    "\n",
    "\n",
    "    def __len__(self):\n",
    "        curr_ptr = self._headNode\n",
    "        count = 0\n",
    "        if curr_ptr==None:\n",
    "            return 0\n",
    "        while 1:\n",
    "            count = count + 1\n",
    "            if curr_ptr[1] is None:\n",
    "                break\n",
    "            curr_ptr = curr_ptr[1]\n",
    "        return count    \n",
    "    \n",
    "    def __getitem__(self, index):\n",
    "        class_name = type(self).__name__\n",
    "        if isinstance(index, numbers.Integral): \n",
    "            curr_ptr = self._headNode\n",
    "            if curr_ptr==None:\n",
    "                msg = 'trying to index an empty {class_name}' \n",
    "                raise IndexError(msg.format(class_name=class_name))\n",
    "            next_ptr = self._headNode[1]\n",
    "            count = 0\n",
    "            while 1:\n",
    "                if index == count:\n",
    "                    return curr_ptr[0]\n",
    "                if curr_ptr[1] is None:\n",
    "                    msg = '{class_name} index out of range' \n",
    "                    raise IndexError(msg.format(class_name=class_name))       \n",
    "                count += 1\n",
    "                curr_ptr = curr_ptr[1]\n",
    "        else:\n",
    "            msg = '{class_name} indices must be integers' \n",
    "            raise TypeError(msg.format(class_name=class_name))\n",
    "            \n",
    "    #Add my __setitem__()\n",
    "    def __setitem__(self, index, element):      #imitate the __getitem__()\n",
    "        class_name = type(self).__name__\n",
    "        if isinstance(index, numbers.Integral):  #index should be an intergral\n",
    "            curr_ptr = self._headNode\n",
    "            if curr_ptr == None:               #if _headNode is None, it is empty, should raise IndexError.\n",
    "                msg = 'trying to index an empty {class_name}' \n",
    "                raise IndexError(msg.format(class_name=class_name))\n",
    "            next_ptr = self._headNode[1]\n",
    "            count = 0\n",
    "            while 1:\n",
    "                if index == count:           #find the index and change its value to new element, then break\n",
    "                    curr_ptr[0] = element    # or else, it will definitely go to the last one.\n",
    "                    return\n",
    "                if curr_ptr[1] is None:      #if the current index is not target one, and it is already the last one.\n",
    "                    msg = '{class_name} index out of range'  # So that we can't find it in the range.\n",
    "                    raise IndexError(msg.format(class_name=class_name)) \n",
    "                count += 1\n",
    "                curr_ptr = curr_ptr[1]   #probe one by one\n",
    "        else:\n",
    "            msg = '{class_name} indices must be integers'   #if index is not an integer, raise TypeError \n",
    "            raise TypeError(msg.format(class_name=class_name))\n",
    "            "
   ]
  },
  {
   "cell_type": "code",
   "execution_count": 118,
   "metadata": {
    "collapsed": false
   },
   "outputs": [
    {
     "name": "stdout",
     "output_type": "stream",
     "text": [
      "old_element:3\n",
      "new_element:5\n"
     ]
    }
   ],
   "source": [
    "# My test of my own __setitem__() of Class LL.\n",
    "A = LL()\n",
    "A.insert_front(5)\n",
    "A[0]\n",
    "A.insert_back(4)\n",
    "A.insert_back(3)\n",
    "old_element = A[2]\n",
    "print(\"old_element:\" + str(old_element))\n",
    "A[2]= 5 \n",
    "new_element = A[2]\n",
    "print(\"new_element:\" + str(new_element))"
   ]
  },
  {
   "cell_type": "markdown",
   "metadata": {},
   "source": [
    "## Q2.\n",
    "\n",
    "An online mean and standard deviation algorithm.\n",
    "\n",
    "Below is a function to generate a potentially infinite stream of 1-D data."
   ]
  },
  {
   "cell_type": "code",
   "execution_count": 1,
   "metadata": {
    "collapsed": false
   },
   "outputs": [],
   "source": [
    "from random import normalvariate, random\n",
    "from itertools import count\n",
    "def make_data(m, stop=None):\n",
    "    for _ in count():\n",
    "        if stop and _ > stop:\n",
    "            break\n",
    "        yield 1.0e09 + normalvariate(0, m*random() )\n",
    "        "
   ]
  },
  {
   "cell_type": "markdown",
   "metadata": {},
   "source": [
    "My remarks: _ has 3 main conventional uses in Python:\n",
    "\n",
    "To hold the result of the last executed statement in an interactive interpreter session. This precedent was set by the standard CPython interpreter, and other interpreters have followed suit\n",
    "\n",
    "For translation lookup in i18n (imported from the corresponding C conventions, I believe), as in code like: raise\n",
    "forms.ValidationError(_(\"Please enter a correct username\"))\n",
    "\n",
    "As a general purpose \"throwaway\" variable name to indicate that part of a function result is being deliberately ignored, as in code like: label, has_label, _ = text.partition(':')"
   ]
  },
  {
   "cell_type": "markdown",
   "metadata": {},
   "source": [
    "Here is an implementation of an online mean algorithm..see http://www.johndcook.com/blog/standard_deviation/ and the link to http://www.johndcook.com/blog/2008/09/26/comparing-three-methods-of-computing-standard-deviation/ in-between. (Convince yourselves of the formulas...)"
   ]
  },
  {
   "cell_type": "code",
   "execution_count": 2,
   "metadata": {
    "collapsed": true
   },
   "outputs": [],
   "source": [
    "def online_mean(iterator):\n",
    "    n = 0\n",
    "    mu = 0\n",
    "    for value in iterator:\n",
    "        n += 1\n",
    "        delta = value - mu\n",
    "        mu = mu + delta/n\n",
    "        yield mu"
   ]
  },
  {
   "cell_type": "markdown",
   "metadata": {},
   "source": [
    "We use out generator functions to implement iterators:"
   ]
  },
  {
   "cell_type": "code",
   "execution_count": 3,
   "metadata": {
    "collapsed": false
   },
   "outputs": [
    {
     "data": {
      "text/plain": [
       "[999999992.9965278,\n",
       " 1000000004.5457895,\n",
       " 999999996.373355,\n",
       " 999999998.9955627,\n",
       " 999999999.1063766,\n",
       " 1000000000.2265998,\n",
       " 999999999.7131544,\n",
       " 999999998.5092816,\n",
       " 999999996.4040016,\n",
       " 999999999.5817575,\n",
       " 999999999.3223431]"
      ]
     },
     "execution_count": 3,
     "metadata": {},
     "output_type": "execute_result"
    }
   ],
   "source": [
    "g = make_data(5, 10)\n",
    "list(g)"
   ]
  },
  {
   "cell_type": "code",
   "execution_count": 56,
   "metadata": {
    "collapsed": false
   },
   "outputs": [
    {
     "name": "stdout",
     "output_type": "stream",
     "text": [
      "<class 'generator'>\n"
     ]
    },
    {
     "data": {
      "text/plain": [
       "[999999999.6965046,\n",
       " 1000000000.426052,\n",
       " 1000000000.4709922,\n",
       " 999999999.7576729,\n",
       " 999999999.9805667,\n",
       " 999999999.8493887,\n",
       " 999999999.8656821,\n",
       " 1000000000.01072,\n",
       " 1000000000.0257503,\n",
       " 1000000000.0606006]"
      ]
     },
     "execution_count": 56,
     "metadata": {},
     "output_type": "execute_result"
    }
   ],
   "source": [
    "g = online_mean(make_data(5, 100))\n",
    "print(type(g))\n",
    "list(g)[:10]"
   ]
  },
  {
   "cell_type": "markdown",
   "metadata": {},
   "source": [
    "### 2.1\n",
    "\n",
    "Implement the standard deviation algorithm as a generator function as\n",
    "\n",
    "```python\n",
    "def online_mean_dev(iterator):\n",
    "    BLA BLA\n",
    "    if n > 1:\n",
    "        stddev = math.sqrt(dev_accum/(n-1))\n",
    "        yield (n, value, mu, stddev)\n",
    "```"
   ]
  },
  {
   "cell_type": "markdown",
   "metadata": {},
   "source": [
    "#### My Remarks:\n",
    "\n",
    "Mk = Mk-1+ (xk – Mk-1)/k\n",
    "\n",
    "Sk = Sk-1 + (xk – Mk-1)*(xk – Mk)"
   ]
  },
  {
   "cell_type": "code",
   "execution_count": 5,
   "metadata": {
    "collapsed": false
   },
   "outputs": [],
   "source": [
    "# your code here\n",
    "import math\n",
    "def online_mean_dev(iterator): \n",
    "    n = 0\n",
    "    mu = 0 \n",
    "    dev_accum = 0\n",
    "    for value in iterator:         # according to the formulae in my remarks \n",
    "        n += 1\n",
    "        mu_new = (value - mu) / n + mu   #every time comes a new element, calculate a new mu\n",
    "        dev_accum = dev_accum + (value - mu) * (value - mu_new) # use value, old_dev, old_mu and new_mu to calculate new dev.\n",
    "        mu = mu_new     # update new mu\n",
    "        if n > 1:\n",
    "            stddev = math.sqrt(dev_accum/(n-1))  \n",
    "        else:\n",
    "            stddev = 0\n",
    "        yield (n, value, mu, stddev)"
   ]
  },
  {
   "cell_type": "markdown",
   "metadata": {},
   "source": [
    "Here we make 100000 element data, and run this iterator on it (imagine running this on a time-series being slowly read from disk"
   ]
  },
  {
   "cell_type": "code",
   "execution_count": 108,
   "metadata": {
    "collapsed": false
   },
   "outputs": [],
   "source": [
    "data_with_stats = online_mean_dev(make_data(5, 100000))\n",
    "#list(data_with_stats)[0:10]"
   ]
  },
  {
   "cell_type": "markdown",
   "metadata": {},
   "source": [
    "## Q3.\n",
    "\n",
    "Let's do Anomaly detection. Write a routine `is_ok`:\n",
    "\n",
    "```python\n",
    "def is_ok(level, t)\n",
    "```\n",
    "\n",
    "which takes a tuple like the one yielded by your code above and returns True if the value is inbetween `level`-$\\sigma$ of the mean."
   ]
  },
  {
   "cell_type": "code",
   "execution_count": 109,
   "metadata": {
    "collapsed": false
   },
   "outputs": [],
   "source": [
    "#your code here\n",
    "def is_ok(level, t):       #is_ok is used in a lambda function below. So it should handle one single tuple once\n",
    "    n, value, mu, stddev = t \n",
    "    if stddev == 0:\n",
    "        return True\n",
    "    if math.fabs((value - mu)) / stddev > level:  #the level-sigma definition\n",
    "        return False         # should use return instead of yield; outliner return False\n",
    "    else:\n",
    "        return True"
   ]
  },
  {
   "cell_type": "markdown",
   "metadata": {},
   "source": [
    "We use this function to create a predicate passed through to `itertools.filterfalse` which is then used to obtain an iterator on the anomalies."
   ]
  },
  {
   "cell_type": "code",
   "execution_count": 110,
   "metadata": {
    "collapsed": false
   },
   "outputs": [],
   "source": [
    "from itertools import filterfalse\n",
    "pred = lambda t: is_ok(5, t)\n",
    "anomalies = filterfalse(pred, data_with_stats)"
   ]
  },
  {
   "cell_type": "markdown",
   "metadata": {},
   "source": [
    "We materialize the anomalies..."
   ]
  },
  {
   "cell_type": "code",
   "execution_count": 111,
   "metadata": {
    "collapsed": false
   },
   "outputs": [
    {
     "data": {
      "text/plain": [
       "[(4981, 999999984.5056592, 999999999.9352322, 2.8525157695907333),\n",
       " (9617, 999999985.0695803, 999999999.9564091, 2.8771790448578565),\n",
       " (10984, 1000000014.8385775, 999999999.9663814, 2.89460291803623),\n",
       " (11662, 999999982.9632908, 999999999.9555298, 2.895591077537978),\n",
       " (16935, 999999985.0432805, 999999999.975334, 2.904416329357956),\n",
       " (21922, 1000000014.7192584, 999999999.9752358, 2.903694426189055),\n",
       " (31260, 1000000014.5527397, 999999999.9731972, 2.8905592520573973),\n",
       " (34327, 1000000015.0233517, 999999999.9745582, 2.8973529545900045),\n",
       " (42720, 1000000015.4256437, 999999999.9896747, 2.8896762295040905),\n",
       " (45021, 1000000014.6754482, 999999999.9927558, 2.8890507485014556),\n",
       " (47733, 1000000014.4856101, 999999999.9883006, 2.8880552472256036),\n",
       " (47769, 999999982.6505095, 999999999.9877168, 2.8890504887125084),\n",
       " (48945, 999999983.7104702, 999999999.9859334, 2.881964811704661),\n",
       " (49567, 999999982.9099447, 999999999.985068, 2.8840618843820645),\n",
       " (50728, 999999984.5860844, 999999999.9863853, 2.8824986407518365),\n",
       " (53681, 1000000015.7083709, 999999999.9872092, 2.8825287603850933),\n",
       " (55232, 1000000015.798627, 999999999.9849387, 2.8822707847853453),\n",
       " (57989, 1000000014.8132869, 999999999.9847165, 2.8833134883520524),\n",
       " (60144, 999999985.278233, 999999999.985941, 2.883623462753267),\n",
       " (62621, 1000000016.4521049, 999999999.9843203, 2.8809857464694355),\n",
       " (67884, 999999985.2713106, 999999999.9852294, 2.8806289800352123),\n",
       " (68239, 999999985.1410011, 999999999.9849125, 2.8806305465928688),\n",
       " (70513, 999999985.5789608, 999999999.9881918, 2.879184520374694),\n",
       " (78556, 999999985.3192571, 999999999.9852673, 2.8779646133933814),\n",
       " (80114, 999999984.2249002, 999999999.9860437, 2.8790411883872076),\n",
       " (85364, 1000000015.3944916, 999999999.9868774, 2.8793849126023523),\n",
       " (90382, 1000000018.1030592, 999999999.984629, 2.880773262164283),\n",
       " (90636, 999999983.611346, 999999999.9844214, 2.8820812134059386),\n",
       " (92324, 1000000014.481313, 999999999.9829092, 2.8823988482981293),\n",
       " (96075, 1000000014.5328478, 999999999.9826056, 2.882745224713156),\n",
       " (97938, 1000000014.4972663, 999999999.9833847, 2.8863830189039126),\n",
       " (98667, 1000000014.8133528, 999999999.9841745, 2.886489825165393)]"
      ]
     },
     "execution_count": 111,
     "metadata": {},
     "output_type": "execute_result"
    }
   ],
   "source": [
    "list(anomalies)#materialize"
   ]
  },
  {
   "cell_type": "markdown",
   "metadata": {},
   "source": [
    "## To think of, but not hand in\n",
    "\n",
    "What kinds of anomalies will this algorithm pick up? What kinds would a shorter \"window\" of anomaly detection, like 100 points around the time in question pick? How might you create an algorithm which does window based averaging? (hint: the window size is small compared to the time series size). \n",
    "\n",
    "Finally think a bit of how you might implement all of this in a production environment..remember that data streaming in might get backed up when you handle an anomaly.\n",
    "\n",
    "(Some inspiration might accrue if you look at the docs for `collections.deque`)."
   ]
  }
 ],
 "metadata": {
  "anaconda-cloud": {},
  "kernelspec": {
   "display_name": "Python [py35]",
   "language": "python",
   "name": "Python [py35]"
  },
  "language_info": {
   "codemirror_mode": {
    "name": "ipython",
    "version": 3
   },
   "file_extension": ".py",
   "mimetype": "text/x-python",
   "name": "python",
   "nbconvert_exporter": "python",
   "pygments_lexer": "ipython3",
   "version": "3.5.2"
  }
 },
 "nbformat": 4,
 "nbformat_minor": 0
}
