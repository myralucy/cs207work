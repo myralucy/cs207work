{
 "cells": [
  {
   "cell_type": "markdown",
   "metadata": {},
   "source": [
    "## Q1. Median Maintenance using a Heap\n",
    "\n",
    "\n",
    "### Part 1\n",
    "\n",
    "Implement a \"dominant heap\" class `BinaryHeap`, which can handle both the min heap and the max heap cases, by having the constructor explicitly pass the \"comparison\" operator in. Replace min and del_min by dominant and del_dominant methods. Change the classmethod to also take in the operator."
   ]
  },
  {
   "cell_type": "code",
   "execution_count": 1,
   "metadata": {
    "collapsed": false
   },
   "outputs": [],
   "source": [
    "#your code here\n",
    "import subprocess\n",
    "from IPython.display import Image\n",
    "from operator import gt, lt\n",
    "def dotify(l, fname):\n",
    "    start = \"\"\"\n",
    "    digraph G {\n",
    "    nodesep=0.3;\n",
    "    ranksep=0.2;\n",
    "    margin=0.1;\n",
    "    node [shape=circle];\n",
    "    edge [arrowsize=0.8];\n",
    "    \"\"\"\n",
    "    end = \"}\"\n",
    "    labels=dict(enumerate(l))\n",
    "    for i, v in labels.items():\n",
    "        if i!=0 and 2*i < len(l):\n",
    "            line1 = \"{} -> {}[side=left];\\n\".format(i, 2*i)\n",
    "        else:\n",
    "            line1=\"\"\n",
    "        if i!=0 and 2*i + 1 < len(l):\n",
    "            line2 = \"{} -> {};\\n\".format(i, 2*i+1)\n",
    "        else:\n",
    "            line2 = \"\"\n",
    "        start = start + line1 + line2\n",
    "    end = \"\\n\".join(\"{}[label=\\\"{}\\\"]\".format(i, labels[i]) for i in labels if i!=0) + end\n",
    "    with open(fname+\".dot\",\"w\") as fd:\n",
    "        fd.write(start+end)\n",
    "    subprocess.call(['./treeplot.sh', fname])\n",
    "    \n",
    "    \n",
    "class BinaryHeap:\n",
    "    \"\"\"\n",
    "    Create my BinaryHeap \n",
    "    \n",
    "    Examples:\n",
    "    >>> data = [1,8,5,9,-1]\n",
    "    >>> from operator import gt, lt\n",
    "    >>> bh = BinaryHeap.heapify_slow(data, lt)\n",
    "    >>> bh.storage\n",
    "    [None, -1, 1, 5, 9, 8]\n",
    "    \n",
    "    >>> bh.dominant()\n",
    "    -1\n",
    "    \n",
    "    >>> bh.del_dominant()\n",
    "    [None, 1, 5, 9, 8]\n",
    "    \n",
    "    >>> bh.dominant()\n",
    "    1\n",
    "    \n",
    "    >>> bh = BinaryHeap.heapify_slow(data, gt)\n",
    "    >>> bh.storage\n",
    "    [None, 9, 8, 5, 1, -1]\n",
    "    \n",
    "    >>> bh.dominant()\n",
    "    9\n",
    "    \n",
    "    >>> bh.del_dominant()\n",
    "    [None, 8, 1, 5, -1]\n",
    "    \n",
    "    >>> bh.dominant()\n",
    "    8\n",
    "    \"\"\"\n",
    "    \n",
    "    def __init__(self, heap_comparator = gt, storage = None):\n",
    "        self.comparator = heap_comparator  ## add a comparator sign\n",
    "        if storage:\n",
    "            self.storage = [None]+list(storage)\n",
    "            self.upto = len(storage)\n",
    "        else:\n",
    "            self.storage=[None]\n",
    "            self.upto = 0\n",
    "        \n",
    "    @classmethod\n",
    "    def heapify_slow(cls, it, heap_comparator):\n",
    "        inst = cls(heap_comparator)\n",
    "        for i in it:\n",
    "            inst.insert(i)\n",
    "        return inst\n",
    "    \n",
    "    def make_heap(self):\n",
    "        for i in range(1,self.upto + 1):\n",
    "            dotify(self.storage, \"img\"+str(i).zfill(2))\n",
    "            self.sift_up(i)\n",
    "            dotify(self.storage, \"img\"+str(i).zfill(2)+'_a')\n",
    "        \n",
    "    def insert(self, value):\n",
    "        self.storage.append(value)\n",
    "        self.upto += 1\n",
    "        dotify(self.storage, \"img\"+str(self.upto).zfill(2))\n",
    "        self.sift_up(self.upto)\n",
    "        dotify(self.storage, \"img\"+str(self.upto).zfill(2)+'_a')\n",
    "\n",
    "    def sift_up(self, i):\n",
    "        parent = i // 2\n",
    "        if parent > 0 and self.comparator(self.storage[i], self.storage[parent]):  # change the comparator\n",
    "            self.storage[i], self.storage[parent] = self.storage[parent], self.storage[i]\n",
    "            self.sift_up(parent)\n",
    "            \n",
    "    def dominant(self):\n",
    "        return self.storage[1]\n",
    "\n",
    "    def del_dominant(self):\n",
    "        minval = self.storage[1]\n",
    "        self.storage[1], self.storage[self.upto] = self.storage[self.upto], self.storage[1]\n",
    "        self.storage.pop()\n",
    "        self.upto -= 1\n",
    "        self.sift_down(1)\n",
    "        return minval    \n",
    "\n",
    "    def sift_down(self, i):\n",
    "        dotify(self.storage, \"delimg\"+str(i).zfill(2))\n",
    "        if 2*i <= self.upto:\n",
    "            child = self._dominant_child(i)\n",
    "            if not self.comparator(self.storage[i], self.storage[child]):   # change the comparator\n",
    "                self.storage[child], self.storage[i] = self.storage[i], self.storage[child]\n",
    "                self.sift_down(child)\n",
    "\n",
    "    def _dominant_child(self, i):\n",
    "        if 2*i + 1 > self.upto:\n",
    "            return 2*i\n",
    "        else:\n",
    "            if self.comparator(self.storage[2*i], self.storage[2*i+1]):\n",
    "                return 2*i\n",
    "            else:\n",
    "                return 2*i + 1\n",
    "        "
   ]
  },
  {
   "cell_type": "code",
   "execution_count": 33,
   "metadata": {
    "collapsed": true
   },
   "outputs": [],
   "source": [
    "data = [1,8,5,9,23,2,45,6,7,99,-5]"
   ]
  },
  {
   "cell_type": "code",
   "execution_count": 34,
   "metadata": {
    "collapsed": false
   },
   "outputs": [
    {
     "name": "stdout",
     "output_type": "stream",
     "text": [
      "[None, -5, 1, 2, 7, 6, 5, 45, 9, 8, 99, 23]\n",
      "[None, 1, 6, 2, 7, 23, 5, 45, 9, 8, 99]\n",
      "1\n",
      "[None, 2, 6, 5, 7, 23, 99, 45, 9, 8]\n",
      "2\n",
      "[None, 2, 6, 5, 7, 10, 99, 45, 9, 8, 23]\n"
     ]
    }
   ],
   "source": [
    "from operator import gt, lt\n",
    "bh = BinaryHeap.heapify_slow(data, lt)\n",
    "print(bh.storage)\n",
    "bh.dominant()\n",
    "bh.del_dominant()\n",
    "print(bh.storage)\n",
    "print(bh.dominant())\n",
    "bh.del_dominant()\n",
    "print(bh.storage)\n",
    "print(bh.dominant())\n",
    "bh.insert(10)\n",
    "print(bh.storage)"
   ]
  },
  {
   "cell_type": "code",
   "execution_count": 35,
   "metadata": {
    "collapsed": false
   },
   "outputs": [
    {
     "name": "stdout",
     "output_type": "stream",
     "text": [
      "[None, 99, 45, 23, 7, 9, 2, 5, 1, 6, 8, -5]\n",
      "[None, 45, 9, 23, 7, 8, 2, 5, 1, 6, -5]\n",
      "45\n",
      "[None, 23, 9, 5, 7, 8, 2, -5, 1, 6]\n",
      "23\n"
     ]
    }
   ],
   "source": [
    "bh = BinaryHeap.heapify_slow(data, gt)\n",
    "print(bh.storage)\n",
    "bh.dominant()\n",
    "bh.del_dominant()\n",
    "print(bh.storage)\n",
    "print(bh.dominant())\n",
    "bh.del_dominant()\n",
    "print(bh.storage)\n",
    "print(bh.dominant())"
   ]
  },
  {
   "cell_type": "markdown",
   "metadata": {},
   "source": [
    "### Part 2\n",
    "\n",
    "Median maintenance is a very cool algorithm to find an online median.\n",
    "We create two arrays to test our implementation, using np.median to test our answer..."
   ]
  },
  {
   "cell_type": "code",
   "execution_count": 36,
   "metadata": {
    "collapsed": false
   },
   "outputs": [
    {
     "name": "stdout",
     "output_type": "stream",
     "text": [
      "150 378.0\n",
      "151 384.0\n"
     ]
    },
    {
     "data": {
      "text/plain": [
       "143"
      ]
     },
     "execution_count": 36,
     "metadata": {},
     "output_type": "execute_result"
    }
   ],
   "source": [
    "import random\n",
    "import numpy as np\n",
    "l = [random.randint(1,1000) for _ in range(150)]\n",
    "print(len(l), np.median(l))\n",
    "l2 = l + [random.randint(1,1000)]\n",
    "print(len(l2), np.median(l2))\n",
    "l[20]"
   ]
  },
  {
   "cell_type": "markdown",
   "metadata": {},
   "source": [
    "You will implement def online_median(iterator) which is a generator yielding successive values of your online median.\n",
    "\n",
    "The algorithm is as follows:\n",
    "\n",
    "We'll use 2 heaps, a max heap for the lower half of the data, and a min-heap for the upper half. We take the first 2values in our data and assign the smaller value to the max heap, while the larger value goes to the min-heap. Then, as we \"insert\" subsequent values in one of the two heaps, the following holds: if we keep the number of elements in both heaps equal (for the even case) or at-most differing by one, the median is respectively the average of the two dominants or the dominant in the heap with one extra item.\n",
    "\n",
    "What then is our strategy for this balanced insertion? Quite simple really: if a new value is not as dominant as the dominant value, add it to that heap. If it is more dominant, add it to the other. If two items in a row get added to the same heap, the heaps will be out of balance by more than one. In this case, take the dominant element from the larger heap and simply add it to the smaller one."
   ]
  },
  {
   "cell_type": "code",
   "execution_count": 44,
   "metadata": {
    "collapsed": true
   },
   "outputs": [],
   "source": [
    "#your code here\n",
    "from operator import gt, lt\n",
    "def online_median(value_iter):\n",
    "    \"\"\"\n",
    "    Create a generator of median of a list of numbers\n",
    "    \n",
    "    Examples:\n",
    "    >>> a = [random.randint(1,10) for _ in range(10)]\n",
    "    [9, 4, 4, 4, 9, 9, 8, 5, 9, 9]\n",
    "    >>> medians = list(online_median(iter(a)))\n",
    "    [9, 6.5, 4, 4.0, 4, 6.5, 8, 6.5, 8, 8.5]\n",
    "    \"\"\"\n",
    "    v0 = next(value_iter)   #if there is only one element, return it\n",
    "    yield v0\n",
    "    \n",
    "    lt_heap = BinaryHeap.heapify_slow([], lt)  #build two heaps\n",
    "    gt_heap = BinaryHeap.heapify_slow([], gt)\n",
    "    v1 = next(value_iter) \n",
    "    lt_heap.insert(max(v0, v1))           # deal with the first two element\n",
    "    gt_heap.insert(min(v0, v1))\n",
    "    yield (lt_heap.dominant() + gt_heap.dominant()) / 2\n",
    "    print(lt_heap.storage)\n",
    "    print(gt_heap.storage)\n",
    "    \n",
    "    value = next(value_iter)\n",
    "    while(value):\n",
    "        if value < gt_heap.dominant():   #insert the value\n",
    "            gt_heap.insert(value)\n",
    "        else:\n",
    "            lt_heap.insert(value)\n",
    "            \n",
    "        if lt_heap.upto > gt_heap.upto + 1:   #balance the two heaps\n",
    "            gt_heap.insert(lt_heap.dominant())\n",
    "            lt_heap.del_dominant()\n",
    "        elif gt_heap.upto > lt_heap.upto + 1:\n",
    "            lt_heap.insert(gt_heap.dominant())\n",
    "            gt_heap.del_dominant()\n",
    "        \n",
    "        if lt_heap.upto == gt_heap.upto:        # if  the number of elements in both heaps equal\n",
    "            yield (lt_heap.dominant() + gt_heap.dominant()) / 2\n",
    "        elif lt_heap.upto > gt_heap.upto:     # if the minHeap has more elements\n",
    "            yield lt_heap.dominant()\n",
    "        else:                               #if the MaxHeap has more elements\n",
    "            yield gt_heap.dominant()\n",
    "        value = next(value_iter)\n",
    "            \n",
    "        "
   ]
  },
  {
   "cell_type": "markdown",
   "metadata": {},
   "source": [
    "Do your answers match?\n"
   ]
  },
  {
   "cell_type": "code",
   "execution_count": 45,
   "metadata": {
    "collapsed": false
   },
   "outputs": [
    {
     "name": "stdout",
     "output_type": "stream",
     "text": [
      "[230, 84, 244, 241, 426, 508, 243, 230, 55, 151, 550, 368, 137, 240, 862, 32, 671, 746, 927, 279, 143, 199, 161, 893, 857, 659, 465, 924, 554, 466, 615, 756, 764, 180, 628, 164, 205, 558, 830, 626, 71, 224, 145, 292, 767, 404, 973, 534, 580, 834, 462, 259, 36, 945, 120, 703, 110, 676, 341, 284, 936, 189, 296, 780, 138, 36, 483, 92, 636, 803, 969, 816, 905, 390, 775, 527, 191, 687, 697, 444, 64, 816, 357, 592, 234, 116, 291, 53, 76, 426, 355, 435, 252, 230, 533, 186, 142, 973, 52, 534, 498, 953, 902, 900, 100, 495, 135, 715, 935, 19, 156, 127, 339, 188, 248, 47, 177, 326, 682, 985, 384, 729, 123, 230, 262, 794, 372, 204, 297, 162, 34, 887, 5, 934, 53, 409, 142, 721, 564, 71, 724, 882, 709, 338, 398, 503, 28, 1, 244, 687]\n",
      "[None, 230]\n",
      "[None, 84]\n",
      "[230, 157.0, 230, 235.5, 241, 242.5, 243, 242.0, 241, 235.5, 241, 242.0, 241, 240.5, 241, 240.5, 241, 242.0, 243, 243.5, 243, 242.0, 241, 242.0, 243, 243.5, 244, 261.5, 279, 323.5, 368, 397.0, 426, 397.0, 426, 397.0, 368, 397.0, 426, 445.5, 426, 397.0, 368, 330.0, 368, 386.0, 404, 415.0, 426, 445.5, 462, 444.0, 426, 444.0, 426, 444.0, 426, 444.0, 426, 415.0, 426, 415.0, 404, 415.0, 404, 386.0, 404, 386.0, 404, 415.0, 426, 444.0, 462, 444.0, 462, 463.5, 462, 463.5, 465, 463.5, 462, 463.5, 462, 463.5, 462, 453.0, 444, 435.0, 426, 426.0, 426, 426.0, 426, 415.0, 426, 415.0, 404, 415.0, 404, 415.0, 426, 426.0, 426, 430.5, 426, 430.5, 426, 430.5, 435, 430.5, 426, 426.0, 426, 415.0, 404, 397.0, 390, 379.0, 390, 397.0, 390, 397.0, 390, 387.0, 384, 387.0, 384, 378.0, 372, 370.0, 368, 370.0, 368, 370.0, 368, 370.0, 368, 370.0, 372, 370.0, 372, 378.0, 384, 378.0, 384, 387.0, 384, 378.0, 372, 378.0]\n",
      "378.0\n"
     ]
    },
    {
     "data": {
      "text/plain": [
       "[<matplotlib.lines.Line2D at 0x10e8e3240>]"
      ]
     },
     "execution_count": 45,
     "metadata": {},
     "output_type": "execute_result"
    },
    {
     "data": {
      "image/png": "[encoded data removed]",
      "text/plain": [
       "<matplotlib.figure.Figure at 0x10eea7c50>"
      ]
     },
     "metadata": {},
     "output_type": "display_data"
    }
   ],
   "source": [
    "%matplotlib inline\n",
    "import matplotlib.pyplot as plt\n",
    "print(l)\n",
    "medians = list(online_median(iter(l)))\n",
    "print(medians)\n",
    "print(medians[-1])\n",
    "plt.plot(medians)"
   ]
  },
  {
   "cell_type": "code",
   "execution_count": 46,
   "metadata": {
    "collapsed": false
   },
   "outputs": [
    {
     "name": "stdout",
     "output_type": "stream",
     "text": [
      "[230, 84, 244, 241, 426, 508, 243, 230, 55, 151, 550, 368, 137, 240, 862, 32, 671, 746, 927, 279, 143, 199, 161, 893, 857, 659, 465, 924, 554, 466, 615, 756, 764, 180, 628, 164, 205, 558, 830, 626, 71, 224, 145, 292, 767, 404, 973, 534, 580, 834, 462, 259, 36, 945, 120, 703, 110, 676, 341, 284, 936, 189, 296, 780, 138, 36, 483, 92, 636, 803, 969, 816, 905, 390, 775, 527, 191, 687, 697, 444, 64, 816, 357, 592, 234, 116, 291, 53, 76, 426, 355, 435, 252, 230, 533, 186, 142, 973, 52, 534, 498, 953, 902, 900, 100, 495, 135, 715, 935, 19, 156, 127, 339, 188, 248, 47, 177, 326, 682, 985, 384, 729, 123, 230, 262, 794, 372, 204, 297, 162, 34, 887, 5, 934, 53, 409, 142, 721, 564, 71, 724, 882, 709, 338, 398, 503, 28, 1, 244, 687, 795]\n",
      "[None, 230]\n",
      "[None, 84]\n",
      "[230, 157.0, 230, 235.5, 241, 242.5, 243, 242.0, 241, 235.5, 241, 242.0, 241, 240.5, 241, 240.5, 241, 242.0, 243, 243.5, 243, 242.0, 241, 242.0, 243, 243.5, 244, 261.5, 279, 323.5, 368, 397.0, 426, 397.0, 426, 397.0, 368, 397.0, 426, 445.5, 426, 397.0, 368, 330.0, 368, 386.0, 404, 415.0, 426, 445.5, 462, 444.0, 426, 444.0, 426, 444.0, 426, 444.0, 426, 415.0, 426, 415.0, 404, 415.0, 404, 386.0, 404, 386.0, 404, 415.0, 426, 444.0, 462, 444.0, 462, 463.5, 462, 463.5, 465, 463.5, 462, 463.5, 462, 463.5, 462, 453.0, 444, 435.0, 426, 426.0, 426, 426.0, 426, 415.0, 426, 415.0, 404, 415.0, 404, 415.0, 426, 426.0, 426, 430.5, 426, 430.5, 426, 430.5, 435, 430.5, 426, 426.0, 426, 415.0, 404, 397.0, 390, 379.0, 390, 397.0, 390, 397.0, 390, 387.0, 384, 387.0, 384, 378.0, 372, 370.0, 368, 370.0, 368, 370.0, 368, 370.0, 368, 370.0, 372, 370.0, 372, 378.0, 384, 378.0, 384, 387.0, 384, 378.0, 372, 378.0, 384]\n",
      "384\n"
     ]
    },
    {
     "data": {
      "text/plain": [
       "[<matplotlib.lines.Line2D at 0x10eb02dd8>]"
      ]
     },
     "execution_count": 46,
     "metadata": {},
     "output_type": "execute_result"
    },
    {
     "data": {
      "image/png": "[encoded data removed]",
      "text/plain": [
       "<matplotlib.figure.Figure at 0x10e5e0da0>"
      ]
     },
     "metadata": {},
     "output_type": "display_data"
    }
   ],
   "source": [
    "print(l2)\n",
    "medians = list(online_median(iter(l2)))\n",
    "print(medians)\n",
    "print(medians[-1])\n",
    "plt.plot(medians)"
   ]
  },
  {
   "cell_type": "markdown",
   "metadata": {},
   "source": [
    "Lastly, lets repeat the analysis we did last time on the randomly generated data."
   ]
  },
  {
   "cell_type": "code",
   "execution_count": 9,
   "metadata": {
    "collapsed": true
   },
   "outputs": [],
   "source": [
    "from random import normalvariate, random\n",
    "from itertools import count\n",
    "def make_data(m, stop=None):\n",
    "    for _ in count():\n",
    "        if stop and _ > stop:\n",
    "            break\n",
    "        yield 1.0e09 + normalvariate(0, m*random() )"
   ]
  },
  {
   "cell_type": "code",
   "execution_count": 10,
   "metadata": {
    "collapsed": false
   },
   "outputs": [
    {
     "name": "stdout",
     "output_type": "stream",
     "text": [
      "<class 'generator'>\n",
      "[None, 1000000001.6043222]\n",
      "[None, 999999998.3646302]\n"
     ]
    },
    {
     "data": {
      "text/plain": [
       "[999999999.9236214,\n",
       " 999999999.9109123,\n",
       " 999999999.8821847,\n",
       " 999999999.8534571,\n",
       " 999999999.8821847,\n",
       " 999999999.8802723,\n",
       " 999999999.8668647,\n",
       " 999999999.8534571,\n",
       " 999999999.8668647,\n",
       " 999999999.8534571]"
      ]
     },
     "execution_count": 10,
     "metadata": {},
     "output_type": "execute_result"
    }
   ],
   "source": [
    "g = online_median(make_data(5, 100))\n",
    "print(type(g))\n",
    "out = list(g)\n",
    "out[-10:]"
   ]
  },
  {
   "cell_type": "code",
   "execution_count": 11,
   "metadata": {
    "collapsed": false
   },
   "outputs": [
    {
     "data": {
      "text/plain": [
       "[<matplotlib.lines.Line2D at 0x10e5bc400>]"
      ]
     },
     "execution_count": 11,
     "metadata": {},
     "output_type": "execute_result"
    },
    {
     "data": {
      "image/png": "[encoded data removed]",
      "text/plain": [
       "<matplotlib.figure.Figure at 0x10e48f710>"
      ]
     },
     "metadata": {},
     "output_type": "display_data"
    }
   ],
   "source": [
    "plt.plot(out)"
   ]
  },
  {
   "cell_type": "markdown",
   "metadata": {},
   "source": [
    "## Q2\n",
    "\n",
    "### Simulating a flight check-in counter\n",
    "\n",
    "It is your job to simulate a flight-checkin counter. There are m agents handling n passengers. The passengers arrive in line with in-between time given by an exponential distribution for INTER_ARRIVAL_TIME. Each passenger, once he or she gets to a counter, is processed in a time drawn from an exponential distribution with PROCESSING_TIME. \n",
    "\n",
    "Clearly, in the usual case of 3-4 agents and 200+ customers on a flight, the customer waits much longer. We have been hired by the airlines customer-relations group to see how many extra agents must we hire to reduce waiting times by how much.\n",
    "\n",
    "We start by representing each customer by a co-routine, which starts with the `inline` event. The state changes to the `atcounter` event, and then `ptime` seconds later, to the `leaves` event. Notice how this customer \"process\" is stopped at the yield, until the customer can be handled."
   ]
  },
  {
   "cell_type": "code",
   "execution_count": 22,
   "metadata": {
    "collapsed": true
   },
   "outputs": [],
   "source": [
    "import collections, random\n",
    "# add the ability to access fields by name instead of position index\n",
    "Event = collections.namedtuple('Event', 'time cid action agent')\n",
    "def customer_process(idee, start, ptime):\n",
    "    #result = await future or result = yield from future – suspends the coroutine until the future\n",
    "    #is done, then returns the future’s result, or raises an exception, which will be propagated.\n",
    "    t, agent = yield Event(start, idee, \"inline\", None)\n",
    "    t, agent = yield Event(t, idee, \"atcounter\", agent)\n",
    "    yield Event(t+ptime, idee, \"leaves\", agent)\n",
    "\n",
    "\n",
    "            "
   ]
  },
  {
   "cell_type": "markdown",
   "metadata": {},
   "source": [
    "The following function simply implements the draw from the exponential distribution for a given customer:"
   ]
  },
  {
   "cell_type": "code",
   "execution_count": 23,
   "metadata": {
    "collapsed": true
   },
   "outputs": [],
   "source": [
    "def duration(arr_time, service_time):\n",
    "    return random.expovariate(1./arr_time), random.expovariate(1./service_time)\n"
   ]
  },
  {
   "cell_type": "markdown",
   "metadata": {},
   "source": [
    "Here is out main simulation class. you will be filling in parts of this class.\n",
    "\n",
    "The constructor sets up the simulation. Three queues are created, one for agents that become free, one priority queue for events so that they can be processed in the order recieved, and a backlog for queue for those customers waiting in line because no agent was available.\n",
    "\n",
    "We set up all the customers in the constructor, with two dictionaries, one to hold the co-routines, and one to hold time metadata which we shall use to figure the average waiting time.\n",
    "\n",
    "The `run` method is where all the action happens and is the one you will edit."
   ]
  },
  {
   "cell_type": "code",
   "execution_count": 52,
   "metadata": {
    "collapsed": false
   },
   "outputs": [],
   "source": [
    "import queue\n",
    "import logging\n",
    "class Simulator:\n",
    "    \n",
    "    def __init__(self, n_agents, n_customers, INTER_ARRIVAL_TIME =1., PROCESSING_TIME=3., DEBUG=False ): \n",
    "        #queues\n",
    "        self.free_agents = queue.Queue()\n",
    "        self.backlog = queue.Queue()\n",
    "        self.events=queue.PriorityQueue()\n",
    "        #save the arguments\n",
    "        self.n_customers = n_customers\n",
    "        self.n_agents = n_agents\n",
    "        self.intertime=INTER_ARRIVAL_TIME\n",
    "        self.proctime=PROCESSING_TIME\n",
    "        #dictionaries to hold customer process\n",
    "        self.customers={}\n",
    "        self.customer_meta={}\n",
    "        self.logger = logging.getLogger(\"sim\")\n",
    "        if DEBUG:\n",
    "            self.logger.setLevel(logging.DEBUG)\n",
    "        else:\n",
    "            self.logger.setLevel(logging.WARNING)\n",
    "        #on the free_agents queue, we put all the agents, and thee time\n",
    "        #they got free\n",
    "        for i in range(n_agents):\n",
    "            self.free_agents.put((i,0))\n",
    "        #this tracks when each customer came in.          \n",
    "        time_when_came=0.\n",
    "        for j in range(n_customers):\n",
    "            interarrtime, proctime = duration(self.intertime, self.proctime)\n",
    "            time_when_came += interarrtime\n",
    "            intuple = (j, time_when_came, proctime)\n",
    "            c = customer_process(*intuple)\n",
    "            self.logger.debug(\"Customer {}, arrived {}, will take {} at counter\".format(*intuple))\n",
    "            #add each customer to dictionaries\n",
    "            self.customers[j]=c\n",
    "            self.customer_meta[j]={'cid':j, 'start':time_when_came, 'finish':None}\n",
    "        self.logger.debug(\"========ending init==============\\n\\n\")\n",
    "        self.max_time_when_came=time_when_came\n",
    "\n",
    "    def run(self, end_time):\n",
    "        #we prime each customer co-routine at the start\n",
    "        #and put that event in the events priority queue\n",
    "        #Since an event is a tuple, the ordering will be by start time\n",
    "        logger = logging.getLogger()\n",
    "        logger.addHandler(logging.StreamHandler())\n",
    "        for cid, proc in sorted(self.customers.items()):\n",
    "            first_event = next(proc)#prime\n",
    "            self.events.put(first_event)#customer in line\n",
    "\n",
    "        #start at time 0\n",
    "        sim_time = 0\n",
    "        while sim_time < end_time:\n",
    "            #we are done if no events and no backlog\n",
    "            if self.events.empty() and self.backlog.empty(): \n",
    "                self.logger.debug('*** end of events and backlog***') \n",
    "                break\n",
    "            #if we have agents available and a backlog\n",
    "            #take customer from backlog queue. This is equivalent\n",
    "            #to taking customers from line\n",
    "            if not self.backlog.empty() and not self.free_agents.empty():\n",
    "                \"YOUR CODE HERE\"\n",
    "                current_event = self.backlog.get()\n",
    "                #the sim time from this branch will be false\n",
    "                #as we get the old time the person in the line showed up\n",
    "            else: #get current event in all other cases\n",
    "                #this ensures that leave events are processed thus\n",
    "                #freeing up agents\n",
    "                \"YOUR CODE HERE\"\n",
    "                current_event = self.events.get()\n",
    "            \n",
    "            sim_time, cid, action, agent = current_event\n",
    "            #get the current customer process\n",
    "            cproc = self.customers[cid]\n",
    "            \"My CODE HERE\"\n",
    "            next_time = -1\n",
    "                \n",
    "            if action=='leaves':\n",
    "                self.logger.debug(\">>>Customer {} leaves, agent {} free at {}\".format(cid, agent, sim_time))\n",
    "                #an agent gets free. Put the time they got free on q\n",
    "                #also update the metadata\n",
    "                self.free_agents.put((agent, sim_time))\n",
    "                self.customer_meta[cid]['finish']=sim_time\n",
    "            elif action=='atcounter':\n",
    "                self.logger.debug(\"Customer {} atcounter Agent {} at {}\".format(cid, agent, sim_time))\n",
    "                next_time = sim_time#processing time already in coroutine\n",
    "            elif action=='inline':#the agent is None to start\n",
    "                self.logger.debug('----------------------------------------------')\n",
    "                self.logger.debug(\"Customer {}, arrived in line @ {}.\".format(cid, sim_time))\n",
    "\n",
    "                if self.free_agents.empty():\n",
    "                    self.logger.debug(\"NO agents available, putting {} inline on backlog at {}\".format(cid, sim_time))\n",
    "                    \"YOUR CODE HERE\"\n",
    "                    self.backlog.put(current_event)\n",
    "                else:\n",
    "                    self.logger.debug(\"{} agents available to serve.\".format(self.free_agents.qsize()))\n",
    "                    \"YOUR CODE HERE\"\n",
    "                    (agent, t) = self.free_agents.get()\n",
    "                    next_time = max(sim_time, t)\n",
    "                    #handle both situations\n",
    "                    #of getting from backlog or regular. The time in\n",
    "                    #next_time which you will send in message to co-routine\n",
    "                    #below are different\n",
    "                    self.logger.debug(\"Customer {} inline to be served by Agent {} at {}\".format(cid, agent, next_time))\n",
    "            #drive the co-routine by sending in time and agent, and getting\n",
    "            #next event out. The event is put into the priority queue.\n",
    "            if next_time != -1:\n",
    "            # if next_time changes, i.e. customer changes its status from inline to atcounter, or from atcounter\n",
    "            # to leave.\n",
    "            # under these two cases, we need to send action to make them move forward to next step.\n",
    "                try:\n",
    "                    next_event = cproc.send((next_time, agent)) \n",
    "                except StopIteration:\n",
    "                    del self.customers[cid] \n",
    "                else:\n",
    "                    self.events.put(next_event)\n",
    "            logging.shutdown()\n",
    "                \n",
    "    def compute_ptimes(self):\n",
    "        ptimes=[]\n",
    "        for j in range(self.n_customers):\n",
    "            #print(j,self.customer_meta[j] )\n",
    "            if self.customer_meta[j]['finish']!=None:\n",
    "                ptimes.append(self.customer_meta[j]['finish'] - self.customer_meta[j]['start'])\n",
    "        return ptimes"
   ]
  },
  {
   "cell_type": "code",
   "execution_count": 53,
   "metadata": {
    "collapsed": true
   },
   "outputs": [],
   "source": [
    "def sim_main(num_agents, num_customers, extratime=20., seed=None, debug=False):\n",
    "    if seed is not None:\n",
    "        random.seed(seed)\n",
    "    sim = Simulator(num_agents, num_customers, DEBUG=debug)\n",
    "    sim.run(sim.max_time_when_came+extratime)\n",
    "    return sim"
   ]
  },
  {
   "cell_type": "markdown",
   "metadata": {},
   "source": [
    "Start small to test this out."
   ]
  },
  {
   "cell_type": "code",
   "execution_count": 54,
   "metadata": {
    "collapsed": false
   },
   "outputs": [
    {
     "name": "stderr",
     "output_type": "stream",
     "text": [
      "----------------------------------------------\n",
      "Customer 0, arrived in line @ 0.605856115166204.\n",
      "2 agents available to serve.\n",
      "Customer 0 inline to be served by Agent 0 at 0.605856115166204\n",
      "Customer 0 atcounter Agent 0 at 0.605856115166204\n",
      "----------------------------------------------\n",
      "Customer 1, arrived in line @ 2.253697533359803.\n",
      "1 agents available to serve.\n",
      "Customer 1 inline to be served by Agent 1 at 2.253697533359803\n",
      "Customer 1 atcounter Agent 1 at 2.253697533359803\n",
      "----------------------------------------------\n",
      "Customer 2, arrived in line @ 2.465975211271218.\n",
      "NO agents available, putting 2 inline on backlog at 2.465975211271218\n",
      "----------------------------------------------\n",
      "Customer 3, arrived in line @ 3.3589642706187774.\n",
      "NO agents available, putting 3 inline on backlog at 3.3589642706187774\n",
      ">>>Customer 0 leaves, agent 0 free at 4.314669797805854\n",
      "----------------------------------------------\n",
      "Customer 2, arrived in line @ 2.465975211271218.\n",
      "1 agents available to serve.\n",
      "Customer 2 inline to be served by Agent 0 at 4.314669797805854\n",
      "Customer 2 atcounter Agent 0 at 4.314669797805854\n",
      ">>>Customer 2 leaves, agent 0 free at 4.563067681463566\n",
      "----------------------------------------------\n",
      "Customer 3, arrived in line @ 3.3589642706187774.\n",
      "1 agents available to serve.\n",
      "Customer 3 inline to be served by Agent 0 at 4.563067681463566\n",
      "Customer 3 atcounter Agent 0 at 4.563067681463566\n",
      ">>>Customer 1 leaves, agent 1 free at 4.604509355502218\n",
      ">>>Customer 3 leaves, agent 0 free at 4.694147708306048\n",
      "----------------------------------------------\n",
      "Customer 4, arrived in line @ 5.123842501753286.\n",
      "2 agents available to serve.\n",
      "Customer 4 inline to be served by Agent 1 at 5.123842501753286\n",
      "Customer 4 atcounter Agent 1 at 5.123842501753286\n",
      "----------------------------------------------\n",
      "Customer 5, arrived in line @ 5.778200387449429.\n",
      "1 agents available to serve.\n",
      "Customer 5 inline to be served by Agent 0 at 5.778200387449429\n",
      "Customer 5 atcounter Agent 0 at 5.778200387449429\n",
      ">>>Customer 4 leaves, agent 1 free at 7.507243540611134\n",
      ">>>Customer 5 leaves, agent 0 free at 8.225581467312352\n",
      "*** end of events and backlog***\n"
     ]
    }
   ],
   "source": [
    "sim=sim_main(2,6, debug=True)"
   ]
  },
  {
   "cell_type": "markdown",
   "metadata": {},
   "source": [
    "Now lets try it with some larger numbers."
   ]
  },
  {
   "cell_type": "code",
   "execution_count": 55,
   "metadata": {
    "collapsed": false
   },
   "outputs": [
    {
     "data": {
      "image/png": "[encoded data removed]",
      "text/plain": [
       "<matplotlib.figure.Figure at 0x10e4c9518>"
      ]
     },
     "metadata": {},
     "output_type": "display_data"
    }
   ],
   "source": [
    "%matplotlib inline\n",
    "import matplotlib.pyplot as plt\n",
    "sim=sim_main(3,100)\n",
    "plt.hist(sim.compute_ptimes(), bins=20);"
   ]
  },
  {
   "cell_type": "code",
   "execution_count": 56,
   "metadata": {
    "collapsed": false
   },
   "outputs": [
    {
     "data": {
      "image/png": "[encoded data removed]",
      "text/plain": [
       "<matplotlib.figure.Figure at 0x10f13d438>"
      ]
     },
     "metadata": {},
     "output_type": "display_data"
    }
   ],
   "source": [
    "sim2=sim_main(4,100)\n",
    "plt.hist(sim2.compute_ptimes(), bins=20);"
   ]
  },
  {
   "cell_type": "markdown",
   "metadata": {},
   "source": [
    "extra time needed below as with 400 passengers a long time is taken to process."
   ]
  },
  {
   "cell_type": "code",
   "execution_count": 57,
   "metadata": {
    "collapsed": false
   },
   "outputs": [
    {
     "data": {
      "image/png": "[encoded data removed]",
      "text/plain": [
       "<matplotlib.figure.Figure at 0x10e9e27f0>"
      ]
     },
     "metadata": {},
     "output_type": "display_data"
    }
   ],
   "source": [
    "sim2=sim_main(2,400, extratime=100)\n",
    "plt.hist(sim2.compute_ptimes(), bins=20);"
   ]
  },
  {
   "cell_type": "markdown",
   "metadata": {},
   "source": [
    "For a proper statistical analysis, you would want to draw this multiple times and look at the distribution of the averages as well. But you should know what this distribution is :-)."
   ]
  }
 ],
 "metadata": {
  "anaconda-cloud": {},
  "kernelspec": {
   "display_name": "Python [py35]",
   "language": "python",
   "name": "Python [py35]"
  },
  "language_info": {
   "codemirror_mode": {
    "name": "ipython",
    "version": 3
   },
   "file_extension": ".py",
   "mimetype": "text/x-python",
   "name": "python",
   "nbconvert_exporter": "python",
   "pygments_lexer": "ipython3",
   "version": "3.5.2"
  }
 },
 "nbformat": 4,
 "nbformat_minor": 0
}
