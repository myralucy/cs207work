{
 "cells": [
  {
   "cell_type": "markdown",
   "metadata": {},
   "source": [
    "## Basic Algorithms: Fibonacci\n",
    "\n",
    "Another form of recursion is tree recursion. Consider computing a fibonacci sequence, in which each number is the sum of the previous two, with the first two taken to be 0 and 1."
   ]
  },
  {
   "cell_type": "markdown",
   "metadata": {},
   "source": [
    "### Recursive Fibonacci. \n",
    "\n",
    "\n",
    "We write Fibonacci recursively with the first two numbers as base cases.\n",
    "\n",
    "![](https://mitpress.mit.edu/sicp/full-text/book/ch1-Z-G-13.gif)\n",
    "\n",
    "(from SICP)\n",
    "\n",
    "Signature: `def fib_recursive(n)`"
   ]
  },
  {
   "cell_type": "code",
   "execution_count": 9,
   "metadata": {
    "collapsed": false
   },
   "outputs": [
    {
     "name": "stdout",
     "output_type": "stream",
     "text": [
      "0\n",
      "1\n",
      "8\n",
      "144\n",
      "317811\n",
      "2178309\n"
     ]
    }
   ],
   "source": [
    "def fib_recursive(n):\n",
    "    if n == 1:\n",
    "        return 0\n",
    "    if n == 2:\n",
    "        return 1\n",
    "    return fib_recursive(n-1) + fib_recursive(n-2)\n",
    "\n",
    "for i in [1, 2, 7, 13, 29, 33]:\n",
    "    print(fib_recursive(i))"
   ]
  },
  {
   "cell_type": "markdown",
   "metadata": {},
   "source": [
    "### Q1. \n",
    "\n",
    "What are the space and time complexities of this implementation? Hint: think aboutthe number of items in a binary tree and its depth."
   ]
  },
  {
   "cell_type": "markdown",
   "metadata": {},
   "source": [
    "<font color = \"darkblue\">\n",
    "***your answer here***\n",
    "\n",
    "1) time complexity:\n",
    "Take advantage of recursion tree. \n",
    "T(n) = T(n-1) + T(n-2) + C (n>=2)\n",
    "From the root of the tree, every node generates no more than 2 nodes, and usually 2 nodes(n>=2).\n",
    "Going down from the root to leaves, the biggest n on each layer reduces 1, so the length of the tree is n. every node takes time C(constant), and the total number of nodes (time) are no more than 1 + 2 + 2 ^ 2 + ... + 2^(n - 1) = 2^n - 1 = O(2^n).\n",
    "so the upper bound of time complexity is O(2^n).\n",
    "\n",
    "2) space complexity:\n",
    "The depth of the recursion tree is n. Look at the deepest path(the most left one). It has n-1 nodes(stack frames), each of which costs space C, so space complexity is C*(n-1) = O(n).\n"
   ]
  },
  {
   "cell_type": "markdown",
   "metadata": {},
   "source": [
    "### Dynamic Programming and Iteration\n",
    "\n",
    "From Skiena\n",
    ">..**dynamic programming**, which typically removes one element from the problem, solves the smaller problem, and then uses the solution to this smaller problem to add back the element in the proper way. **Divide-and-conquer** instead splits the problem in (say) halves, solves each half, then stitches the pieces back together to form a full solution.\n",
    "\n",
    ">Dynamic programming is a technique for efficiently implementing a recursive algorithm by storing partial results. The trick is seeing whether the naive recursive algorithm computes the same subproblems over and over and over again. If so, storing the answer for each subproblems in a table to look up instead of recompute can lead to an efficient algorithm. Start with a recursive algorithm or definition. Only once we have a correct recursive algorithm do we worry about speeding it up by using a results matrix. Dynamic programming is generally the right method for optimization problems on combinatorial objects that have an inherent left to right order among components. Left-to-right objects includes: character strings, rooted trees, polygons, and integer sequences."
   ]
  },
  {
   "cell_type": "markdown",
   "metadata": {},
   "source": [
    "### Q2.\n",
    "\n",
    "Here is an implementation of Fibonacci using dynamic programming: they key is to notice that the recurrence we used can be put into an iterative form and just stored in an ever increasing array. What is the space and time complexity here? What if you were somehow able to save the array outside of the function when u calculate `fib(M)` and subsequently had to calculate `fib(N)`, where $N>M$."
   ]
  },
  {
   "cell_type": "code",
   "execution_count": 7,
   "metadata": {
    "collapsed": true
   },
   "outputs": [],
   "source": [
    "def fib_iterative(n):\n",
    "    fibs=[]\n",
    "    fibs.append(0)\n",
    "    fibs.append(1)\n",
    "    for i in range(2, n):\n",
    "         fibs.append(fibs[i-1]+fibs[i-2])\n",
    "    return fibs[n-1]"
   ]
  },
  {
   "cell_type": "code",
   "execution_count": 8,
   "metadata": {
    "collapsed": false
   },
   "outputs": [
    {
     "name": "stdout",
     "output_type": "stream",
     "text": [
      "0\n",
      "1\n",
      "8\n",
      "144\n",
      "317811\n",
      "2178309\n"
     ]
    }
   ],
   "source": [
    "for i in [1, 2, 7,13,29,33]:\n",
    "    print(fib_iterative(i))"
   ]
  },
  {
   "cell_type": "markdown",
   "metadata": {},
   "source": [
    "<font color = \"darkblue\">\n",
    "***your answer here***\n",
    "\n",
    "1) time complexity\n",
    "The for-loop within the function loops n-1 times, and constant time C(sum and append operations) for each. So the time complexity is C*(n-1) + C = O(n).\n",
    "\n",
    "2) space complexity\n",
    "The biggest space is the fibs[], and it has n elements in the end. So the space complexity is O(n)."
   ]
  },
  {
   "cell_type": "markdown",
   "metadata": {},
   "source": [
    "### Recursive Fibonacci with cacheing"
   ]
  },
  {
   "cell_type": "markdown",
   "metadata": {},
   "source": [
    "### Q3. \n",
    "\n",
    "Use `cache` and `call_counter` as decorators on `fib_recursive` and print the fibonacci numbers for 7,13,29, 33. What order should these decorators be called to make sure `call_counter` gets the actual number of calls to `fib_recursive`?\n",
    "\n",
    "We've written the `cache` decorator for you. You have to write the `call_counter` decorator which takes the function as argument and using a `count_dictionary` whose keys are function names, counts the number of times the function is called."
   ]
  },
  {
   "cell_type": "code",
   "execution_count": 3,
   "metadata": {
    "collapsed": true
   },
   "outputs": [],
   "source": [
    "def cache(f):\n",
    "    \"\"\"a single argument function whose values may be cached\"\"\"\n",
    "    cache = {}\n",
    "    def memoized_func(x):\n",
    "        if x not in cache:\n",
    "            cache[x] = f(x)\n",
    "        return cache[x]\n",
    "    memoized_func.__name__ = f.__name__\n",
    "    return memoized_func\n",
    "    "
   ]
  },
  {
   "cell_type": "code",
   "execution_count": 4,
   "metadata": {
    "collapsed": false
   },
   "outputs": [],
   "source": [
    "def call_counter(count_dictionary):\n",
    "    def call_counter_decorator(func):\n",
    "        def inner(*args, **kwargs):\n",
    "            name = func.__name__\n",
    "            ######your code here\n",
    "            #print(\"name:\" + name)\n",
    "            if name not in count_dictionary:\n",
    "                count_dictionary[name] = 0\n",
    "            count_dictionary[name] = count_dictionary[name] + 1\n",
    "            #print(args)\n",
    "            #print(count_dictionary)\n",
    "            return func(*args, **kwargs)\n",
    "        return inner\n",
    "    return call_counter_decorator\n"
   ]
  },
  {
   "cell_type": "code",
   "execution_count": 7,
   "metadata": {
    "collapsed": false
   },
   "outputs": [
    {
     "name": "stdout",
     "output_type": "stream",
     "text": [
      "(7, 13, 8)\n",
      "(13, 233, 14)\n",
      "(29, 514229, 30)\n",
      "(33, 3524578, 34)\n"
     ]
    }
   ],
   "source": [
    "######your code here\n",
    "ccounter={}\n",
    "@cache\n",
    "@call_counter(ccounter)    \n",
    "\n",
    "def fib_recursive(n):      #terminal condition in the following original example is inconsistent\n",
    "    if n == 0:\n",
    "        return 0\n",
    "    if n == 1:\n",
    "        return 1\n",
    "    return fib_recursive(n-1) + fib_recursive(n-2)\n",
    "\n",
    "for i in [7,13,29, 33]:\n",
    "#for i in [7]:\n",
    "    print(i, fib_recursive(i), ccounter['fib_recursive'])"
   ]
  },
  {
   "cell_type": "markdown",
   "metadata": {},
   "source": [
    "<font color = \"darkblue\">\n",
    "***your answer here***\n",
    "\n",
    "The call_counter() should be closer to the fib fuction if you want to counts the calls of \n",
    "the actual recursived fib(). Although it still works if cache is closer to the fib fuction, \n",
    "the call_counter() returns the counts of memorized fib() instead of the actual recursived fib(). The terminal condition in the following original example code is inconsistent to the function call tree, so I write a new one."
   ]
  },
  {
   "cell_type": "code",
   "execution_count": 8,
   "metadata": {
    "collapsed": false
   },
   "outputs": [
    {
     "name": "stdout",
     "output_type": "stream",
     "text": [
      "(7, 8, 7)\n",
      "(13, 144, 13)\n",
      "(29, 317811, 29)\n",
      "(33, 2178309, 33)\n"
     ]
    }
   ],
   "source": [
    "ccounter={}             # the original codes in the homework\n",
    "@cache\n",
    "@call_counter(ccounter)\n",
    "def fib_recursive(n):\n",
    "    if n == 1:\n",
    "        return 0\n",
    "    if n == 2:\n",
    "        return 1\n",
    "    return fib_recursive(n-1) + fib_recursive(n-2)\n",
    "\n",
    "for i in [7,13,29, 33]:\n",
    "#for i in [7]:\n",
    "    print(i, fib_recursive(i), ccounter['fib_recursive'])\n",
    "    "
   ]
  },
  {
   "cell_type": "markdown",
   "metadata": {},
   "source": [
    "### Q4.\n",
    "\n",
    "What is the time and space complexity of the the memoized Fibonacci? HINT: assume evaluation happens left to right on sub-expressions, so that `fib_recursive(n-1)` side of the tree is evaluated first, and thus the tree is evaluated depth first, from left to right. What kind of pruning happens in the tree?"
   ]
  },
  {
   "cell_type": "markdown",
   "metadata": {},
   "source": [
    "<font color = \"darkblue\">\n",
    "***your answer here***\n",
    "\n",
    "Look at the recursion tree. \n",
    "\n",
    "Every layer: For each node fib_iter(n), the left child is fib_iter(n - 1), and the right is fib_iter(n - 2). The recursion call progress goes along the left down to the leaf the then go to the right(like the DFS). So every time it comes to the right node, it will find the result has already been in the cache(), so it returned its value and won't go deeper. That means every layer actually has 2 nodes of cache(fib()). \n",
    "\n",
    "Depth: The leftest(the longest) path has n nodes, so the depth is n.\n",
    "\n",
    "\n",
    "1)time complexity: \n",
    "\n",
    "if you counts the call numbers of cache(fib()), it\n",
    "equals to the total amounts of nodes in the pruned tree. 2 * (n - 1) + C  = O(n);\n",
    "\n",
    "if you counts the call numbers of inner actual recursive fib(), it\n",
    "equals to the nodes in the leftest path. n = O(n).\n",
    "\n",
    "2)space complexity:\n",
    "Equals to the cache{} + C = O(n)\n",
    "\n"
   ]
  },
  {
   "cell_type": "markdown",
   "metadata": {},
   "source": [
    "### Q5.\n",
    "\n",
    "Do you really need to store the entire array in the dynamic programming implementation? Isnt it enough to have only saved the previous two Fibonacci numbers? Implement such an algorithm in `fib_iterative2(n)`. What is its space and time complexity? How is the time complexity different from that of the previous iterative attempt?\n"
   ]
  },
  {
   "cell_type": "code",
   "execution_count": 4,
   "metadata": {
    "collapsed": false
   },
   "outputs": [],
   "source": [
    "#your code here\n",
    "def fib_iterative2(n):\n",
    "    if n == 0: \n",
    "        return 0\n",
    "    if n == 1:\n",
    "        return 1\n",
    "    prev = (0, 1)\n",
    "    for i in range(2, n + 1):\n",
    "        new = prev[0] + prev[1]\n",
    "        prev = (prev[1], new)\n",
    "    return prev[1]"
   ]
  },
  {
   "cell_type": "code",
   "execution_count": 10,
   "metadata": {
    "collapsed": false
   },
   "outputs": [
    {
     "name": "stdout",
     "output_type": "stream",
     "text": [
      "0\n",
      "1\n",
      "8\n",
      "144\n",
      "317811\n",
      "2178309\n"
     ]
    }
   ],
   "source": [
    "#your code here\n",
    "for i in [1, 2, 7,13,29,33]:\n",
    "    print(fib_iterative(i))"
   ]
  },
  {
   "cell_type": "markdown",
   "metadata": {},
   "source": [
    "<font color = \"darkblue\">\n",
    "***your answer here***\n",
    "\n",
    "space complexity: constant, O(1)\n",
    "\n",
    "time complexity: O(n), time complexity of the two implementations are the same order of n"
   ]
  },
  {
   "cell_type": "markdown",
   "metadata": {},
   "source": [
    "### Q6.\n",
    "\n",
    "Write an algorithm for insertion sort.\n",
    "\n",
    "![](https://camo.githubusercontent.com/8f6fedc10da579f13b22b949f6ad29255b6d721f/68747470733a2f2f75706c6f61642e77696b696d656469612e6f72672f77696b6970656469612f636f6d6d6f6e732f302f30662f496e73657274696f6e2d736f72742d6578616d706c652d33303070782e676966)\n",
    "\n",
    "(from wikipedia)\n",
    "\n",
    "The algorithm is also illustrated here: http://cs.armstrong.edu/liang/animation/web/InsertionSort.html and may be described thus:\n",
    "\n",
    "Insertion sort is a method for sorting that starts with a single element (thus forming a trivially sorted list) and then incrementally inserts the remaining elements so that the list stays sorted.\n",
    "\n",
    "Talk about the best, worst and average complexity of insertion sort. Use the A=[5,2,1,3,8,6,9] to show your code!"
   ]
  },
  {
   "cell_type": "code",
   "execution_count": 1,
   "metadata": {
    "collapsed": false
   },
   "outputs": [
    {
     "data": {
      "text/plain": [
       "[1, 2, 3, 5, 6, 8, 9]"
      ]
     },
     "execution_count": 1,
     "metadata": {},
     "output_type": "execute_result"
    }
   ],
   "source": [
    "#your code here\n",
    "def insert_sort(list_to_sort):\n",
    "    for i in range(1, len(list_to_sort)):\n",
    "        j = i\n",
    "        while (j > 0 and list_to_sort[j] < list_to_sort[j - 1]):\n",
    "            (list_to_sort[j], list_to_sort[j - 1]) = (list_to_sort[j - 1], list_to_sort[j])\n",
    "            j -= 1\n",
    "    return list_to_sort\n",
    "\n",
    "A = [5,2,1,3,8,6,9]\n",
    "insert_sort(A)\n",
    "    \n"
   ]
  },
  {
   "cell_type": "markdown",
   "metadata": {},
   "source": [
    "<font color = \"darkblue\">\n",
    "***your answer here***\n",
    "\n",
    "1) time complexity: \n",
    "the outer loop has i = (n - 1) loops and the inner one has (i - 1) loops for the worst case, \n",
    "so (n - 2) + (n - 3) + ... + 1 = (n - 1) * (n - 2) / 2 = O(n^2).\n",
    "\n",
    "2) space complexity:\n",
    "if not consider the space that the input array costs, there is no extra space. \n",
    "So space complexity is O(1).\n"
   ]
  },
  {
   "cell_type": "code",
   "execution_count": null,
   "metadata": {
    "collapsed": true
   },
   "outputs": [],
   "source": []
  }
 ],
 "metadata": {
  "anaconda-cloud": {},
  "kernelspec": {
   "display_name": "Python 2",
   "language": "python",
   "name": "python2"
  },
  "language_info": {
   "codemirror_mode": {
    "name": "ipython",
    "version": 2
   },
   "file_extension": ".py",
   "mimetype": "text/x-python",
   "name": "python",
   "nbconvert_exporter": "python",
   "pygments_lexer": "ipython2",
   "version": "2.7.12"
  }
 },
 "nbformat": 4,
 "nbformat_minor": 0
}
